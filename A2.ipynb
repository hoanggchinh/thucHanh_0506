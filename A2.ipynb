{
 "cells": [
  {
   "cell_type": "markdown",
   "id": "aedd0d57",
   "metadata": {},
   "source": [
    "# 📊 Bài A2: Dự đoán giá trị liên tục với Boston Housing\n",
    "---\n",
    "**Yêu cầu:**\n",
    "- Phân tích dữ liệu\n",
    "- Tiền xử lý đặc trưng\n",
    "- Huấn luyện các mô hình nâng cao\n",
    "- Đánh giá mô hình chuyên sâu\n"
   ]
  },
  {
   "cell_type": "code",
   "execution_count": null,
   "id": "8677b4cf",
   "metadata": {},
   "outputs": [],
   "source": [
    "\n",
    "import pandas as pd\n",
    "import seaborn as sns\n",
    "import matplotlib.pyplot as plt\n",
    "from sklearn.ensemble import IsolationForest\n",
    "from sklearn.preprocessing import StandardScaler, PolynomialFeatures\n",
    "from sklearn.linear_model import LinearRegression\n",
    "from sklearn.model_selection import cross_val_score, KFold, train_test_split\n",
    "from sklearn.pipeline import Pipeline\n",
    "from sklearn.compose import ColumnTransformer\n",
    "from sklearn.ensemble import GradientBoostingRegressor, StackingRegressor\n",
    "from sklearn.metrics import mean_squared_error, mean_absolute_percentage_error, r2_score\n",
    "from sklearn.neural_network import MLPRegressor\n",
    "from statsmodels.stats.outliers_influence import variance_inflation_factor\n",
    "import optuna\n",
    "import shap\n",
    "import numpy as np\n",
    "import warnings\n",
    "warnings.filterwarnings(\"ignore\")\n",
    "\n",
    "url = \"https://raw.githubusercontent.com/selva86/datasets/master/BostonHousing.csv\"\n",
    "df = pd.read_csv(url)\n",
    "\n",
    "print(df.head())\n",
    "print(df.info())\n",
    "print(df.describe())\n"
   ]
  },
  {
   "cell_type": "code",
   "execution_count": null,
   "id": "599e3644",
   "metadata": {},
   "outputs": [],
   "source": [
    "\n",
    "sns.pairplot(df[['rm', 'lstat', 'ptratio', 'tax', 'price']])\n",
    "plt.show()\n"
   ]
  },
  {
   "cell_type": "code",
   "execution_count": null,
   "id": "15d2b267",
   "metadata": {},
   "outputs": [],
   "source": [
    "\n",
    "corr_matrix = df.corr(method='pearson')\n",
    "high_corr = corr_matrix['price'].abs().sort_values(ascending=False)\n",
    "print(\"Các biến tương quan mạnh với price:\\n\", high_corr[high_corr > 0.5])\n"
   ]
  },
  {
   "cell_type": "code",
   "execution_count": null,
   "id": "aed0c8a3",
   "metadata": {},
   "outputs": [],
   "source": [
    "\n",
    "iso = IsolationForest(contamination=0.05, random_state=42)\n",
    "outliers = iso.fit_predict(df)\n",
    "df_clean = df[outliers == 1].reset_index(drop=True)\n",
    "print(\"Dữ liệu còn lại sau khi loại outlier:\", df_clean.shape)\n"
   ]
  },
  {
   "cell_type": "code",
   "execution_count": null,
   "id": "ac3388fc",
   "metadata": {},
   "outputs": [],
   "source": [
    "\n",
    "X = df_clean.drop(columns=['price'])\n",
    "vif_data = pd.DataFrame()\n",
    "vif_data['Feature'] = X.columns\n",
    "vif_data['VIF'] = [variance_inflation_factor(X.values, i) for i in range(X.shape[1])]\n",
    "print(vif_data)\n"
   ]
  },
  {
   "cell_type": "code",
   "execution_count": null,
   "id": "01e555be",
   "metadata": {},
   "outputs": [],
   "source": [
    "\n",
    "df_clean['room_per_crime'] = df_clean['rm'] / df_clean['crim']\n",
    "df_clean['high_tax'] = (df_clean['tax'] > df_clean['tax'].mean()).astype(int)\n",
    "df_clean['rm_lstat'] = df_clean['rm'] * df_clean['lstat']\n",
    "df_clean['ptratio_tax'] = df_clean['ptratio'] * df_clean['tax']\n"
   ]
  },
  {
   "cell_type": "code",
   "execution_count": null,
   "id": "7d2c4a21",
   "metadata": {},
   "outputs": [],
   "source": [
    "\n",
    "features_to_poly = ['rm', 'lstat', 'ptratio']\n",
    "poly = PolynomialFeatures(degree=2, include_bias=False)\n",
    "poly_features = poly.fit_transform(df_clean[features_to_poly])\n",
    "poly_feature_names = poly.get_feature_names_out(features_to_poly)\n",
    "poly_df = pd.DataFrame(poly_features, columns=poly_feature_names)\n",
    "df_clean = pd.concat([df_clean.reset_index(drop=True), poly_df], axis=1)\n"
   ]
  },
  {
   "cell_type": "code",
   "execution_count": null,
   "id": "c80793ac",
   "metadata": {},
   "outputs": [],
   "source": [
    "\n",
    "X = df_clean.drop(columns=['price'])\n",
    "y = df_clean['price']\n",
    "X_train, X_test, y_train, y_test = train_test_split(X, y, test_size=0.2, random_state=42)\n",
    "scaler = StandardScaler()\n",
    "X_train_scaled = scaler.fit_transform(X_train)\n",
    "X_test_scaled = scaler.transform(X_test)\n"
   ]
  },
  {
   "cell_type": "code",
   "execution_count": null,
   "id": "f7bf13c1",
   "metadata": {},
   "outputs": [],
   "source": [
    "\n",
    "lr = LinearRegression()\n",
    "lr.fit(X_train_scaled, y_train)\n",
    "\n",
    "gbr = GradientBoostingRegressor(random_state=42)\n",
    "gbr.fit(X_train_scaled, y_train)\n",
    "\n",
    "mlp = MLPRegressor(hidden_layer_sizes=(64, 32), activation='relu', max_iter=1000, random_state=42)\n",
    "mlp.fit(X_train_scaled, y_train)\n"
   ]
  },
  {
   "cell_type": "code",
   "execution_count": null,
   "id": "1fa23c0b",
   "metadata": {},
   "outputs": [],
   "source": [
    "\n",
    "def objective(trial):\n",
    "    params = {\n",
    "        'learning_rate': trial.suggest_float('learning_rate', 0.01, 0.3),\n",
    "        'n_estimators': trial.suggest_int('n_estimators', 50, 500),\n",
    "        'max_depth': trial.suggest_int('max_depth', 3, 10)\n",
    "    }\n",
    "    model = GradientBoostingRegressor(**params, random_state=42)\n",
    "    score = cross_val_score(model, X_train_scaled, y_train, cv=5, scoring='neg_mean_squared_error')\n",
    "    return -score.mean()\n",
    "\n",
    "study = optuna.create_study(direction='minimize')\n",
    "study.optimize(objective, n_trials=50)\n",
    "print(\"Best parameters:\", study.best_params)\n"
   ]
  },
  {
   "cell_type": "code",
   "execution_count": null,
   "id": "35cc243c",
   "metadata": {},
   "outputs": [],
   "source": [
    "\n",
    "estimators = [\n",
    "    ('lr', lr),\n",
    "    ('gbr', GradientBoostingRegressor(**study.best_params, random_state=42)),\n",
    "    ('mlp', mlp)\n",
    "]\n",
    "\n",
    "stack = StackingRegressor(estimators=estimators, final_estimator=LinearRegression())\n",
    "stack.fit(X_train_scaled, y_train)\n"
   ]
  },
  {
   "cell_type": "code",
   "execution_count": null,
   "id": "b6a0eeb4",
   "metadata": {},
   "outputs": [],
   "source": [
    "\n",
    "cv = KFold(n_splits=5, shuffle=True, random_state=42)\n",
    "\n",
    "def evaluate_model(model, X, y):\n",
    "    mse = -cross_val_score(model, X, y, scoring='neg_mean_squared_error', cv=cv).mean()\n",
    "    rmse = np.sqrt(mse)\n",
    "    r2 = cross_val_score(model, X, y, scoring='r2', cv=cv).mean()\n",
    "    mape = -cross_val_score(model, X, y, scoring='neg_mean_absolute_percentage_error', cv=cv).mean()\n",
    "    return mse, rmse, r2, mape\n",
    "\n",
    "models = {'Linear Regression': lr, 'Gradient Boosting': gbr, 'MLP Regressor': mlp, 'Stacking': stack}\n",
    "\n",
    "for name, model in models.items():\n",
    "    mse, rmse, r2, mape = evaluate_model(model, X_train_scaled, y_train)\n",
    "    print(f\"{name}: MSE={mse:.2f}, RMSE={rmse:.2f}, R²={r2:.3f}, MAPE={mape:.2f}\")\n"
   ]
  },
  {
   "cell_type": "code",
   "execution_count": null,
   "id": "6ebf7d67",
   "metadata": {},
   "outputs": [],
   "source": [
    "\n",
    "y_pred = stack.predict(X_test_scaled)\n",
    "plt.scatter(y_test, y_test - y_pred)\n",
    "plt.axhline(0, color='red')\n",
    "plt.xlabel('Actual price')\n",
    "plt.ylabel('Residuals')\n",
    "plt.title('Residual Plot - Stacking Model')\n",
    "plt.show()\n"
   ]
  },
  {
   "cell_type": "code",
   "execution_count": null,
   "id": "c9c6bd40",
   "metadata": {},
   "outputs": [],
   "source": [
    "\n",
    "explainer = shap.Explainer(gbr, X_train_scaled)\n",
    "shap_values = explainer(X_test_scaled)\n",
    "shap.summary_plot(shap_values, X_test, plot_type=\"bar\")\n"
   ]
  }
 ],
 "metadata": {},
 "nbformat": 4,
 "nbformat_minor": 5
}
